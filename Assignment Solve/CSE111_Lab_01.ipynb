{
  "nbformat": 4,
  "nbformat_minor": 0,
  "metadata": {
    "colab": {
      "provenance": []
    },
    "kernelspec": {
      "name": "python3",
      "display_name": "Python 3"
    },
    "language_info": {
      "name": "python"
    }
  },
  "cells": [
    {
      "cell_type": "markdown",
      "source": [
        "#List"
      ],
      "metadata": {
        "id": "DYw-CI8UgQ1V"
      }
    },
    {
      "cell_type": "code",
      "source": [
        "#Task: 01\n",
        "lista = []\n",
        "while True:\n",
        "    u = input()\n",
        "    if u==\"STOP\":\n",
        "        break\n",
        "    lista.append(int(u))\n",
        "\n",
        "track = []\n",
        "for i in range (len(lista)):\n",
        "    if lista[i] not in track:\n",
        "        count = 0\n",
        "        for j in range(len(lista)):\n",
        "            if lista[i] == lista[j]:\n",
        "                count +=1\n",
        "        track.append(lista[i])\n",
        "        print(f\"{track[-1]}-{count}times\")"
      ],
      "metadata": {
        "colab": {
          "base_uri": "https://localhost:8080/"
        },
        "id": "RKj4uEwV72zR",
        "outputId": "d749c738-f9bf-4605-e59d-ce06c75ac589"
      },
      "execution_count": null,
      "outputs": [
        {
          "output_type": "stream",
          "name": "stdout",
          "text": [
            "10\n",
            "20\n",
            "30\n",
            "10\n",
            "20\n",
            "STOP\n",
            "10-2times\n",
            "20-2times\n",
            "30-1times\n"
          ]
        }
      ]
    },
    {
      "cell_type": "code",
      "source": [
        "#Task: 02\n",
        "n = int(input(\"Enter the number of lists: \"))\n",
        "lists = []\n",
        "\n",
        "for i in range(n):\n",
        "    lst = []\n",
        "    nums = input(\"Enter list {}: \")\n",
        "    nums = nums.split( )\n",
        "    for num in nums:\n",
        "        lst.append(int(num))\n",
        "    lists.append(lst)\n",
        "\n",
        "max_sum = 0\n",
        "max_list = 0\n",
        "\n",
        "for lst in lists:\n",
        "    sum = 0\n",
        "    for num in lst:\n",
        "        sum += num\n",
        "    if sum > max_sum:\n",
        "        max_sum = sum\n",
        "        max_list = lst\n",
        "\n",
        "print(max_sum)\n",
        "print(max_list)"
      ],
      "metadata": {
        "colab": {
          "base_uri": "https://localhost:8080/"
        },
        "id": "WLRMwLsDXdR2",
        "outputId": "f43f02ca-327e-4273-f858-e7be67c8d15b"
      },
      "execution_count": null,
      "outputs": [
        {
          "output_type": "stream",
          "name": "stdout",
          "text": [
            "Enter the number of lists: 4\n",
            "Enter list {}: 1 2 3\n",
            "Enter list {}: 4 5 6\n",
            "Enter list {}: 7 8 9\n",
            "Enter list {}: 10 11 12\n",
            "33\n",
            "[10, 11, 12]\n"
          ]
        }
      ]
    },
    {
      "cell_type": "code",
      "source": [
        "#Task: 03\n",
        "list1 = input().split()\n",
        "list2 = input().split()\n",
        "\n",
        "cross  = []\n",
        "\n",
        "for num1 in list1:\n",
        "    for num2 in list2:\n",
        "        cross.append(int(num1) * int(num2))\n",
        "\n",
        "print(cross)"
      ],
      "metadata": {
        "colab": {
          "base_uri": "https://localhost:8080/"
        },
        "id": "9CzTMt1KS9CE",
        "outputId": "30c9552f-1933-4811-b3b5-16d11858aa3b"
      },
      "execution_count": null,
      "outputs": [
        {
          "output_type": "stream",
          "name": "stdout",
          "text": [
            "2 3 6\n",
            "3 4 5\n",
            "[6, 8, 10, 9, 12, 15, 18, 24, 30]\n"
          ]
        }
      ]
    },
    {
      "cell_type": "code",
      "source": [
        "#Task: 04\n",
        "while True:\n",
        "  uj = input()\n",
        "  if uj == \"STOP\":\n",
        "    break\n",
        "  new_list = list(map(int,uj.split()))\n",
        "  a_dif = []\n",
        "  ub_jump = True\n",
        "  for i in range (len(new_list)-1):\n",
        "    dif = abs(new_list[i] - new_list[i+1])\n",
        "    if dif <1 or dif >= len(new_list):\n",
        "      ub_jump = False\n",
        "      break\n",
        "    a_dif.append(dif)\n",
        "  if ub_jump and len(a_dif) == len(new_list)-1:\n",
        "    print(\"UB Jumper\")\n",
        "  else:\n",
        "    print(\"Not UB Jumper\")"
      ],
      "metadata": {
        "colab": {
          "base_uri": "https://localhost:8080/"
        },
        "id": "kzwa8xVG2n01",
        "outputId": "8dded00c-d401-4c98-f5c6-ea381b2817ef"
      },
      "execution_count": 5,
      "outputs": [
        {
          "name": "stdout",
          "output_type": "stream",
          "text": [
            "1 2 3 4\n",
            "UB Jumper\n",
            "STOP\n"
          ]
        }
      ]
    },
    {
      "cell_type": "code",
      "source": [
        "#Task: 05\n",
        "def rearrange_string(string):\n",
        "    lowercase_letters = []\n",
        "    uppercase_letters = []\n",
        "    odd_numbers = []\n",
        "    even_numbers = []\n",
        "\n",
        "    for char in string:\n",
        "        if char.islower():\n",
        "            lowercase_letters.append(char)\n",
        "        elif char.isupper():\n",
        "            uppercase_letters.append(char)\n",
        "        elif char.isdigit():\n",
        "            if int(char) % 2 == 1:\n",
        "                odd_numbers.append(char)\n",
        "            else:\n",
        "                even_numbers.append(char)\n",
        "\n",
        "    rearranged_string = ''.join(lowercase_letters + uppercase_letters + odd_numbers + even_numbers)\n",
        "    return rearranged_string\n",
        "\n",
        "input_string = \"acruB1324\"\n",
        "rearranged_result = rearrange_string(input_string)\n",
        "print(rearranged_result)"
      ],
      "metadata": {
        "colab": {
          "base_uri": "https://localhost:8080/"
        },
        "id": "WIjMYPQ-6Cb4",
        "outputId": "f1edcaf5-0526-4ae4-d880-58155223bb60"
      },
      "execution_count": 6,
      "outputs": [
        {
          "output_type": "stream",
          "name": "stdout",
          "text": [
            "acruB1324\n"
          ]
        }
      ]
    },
    {
      "cell_type": "code",
      "source": [
        "#Task: 06\n",
        "n = int(input('number of player: '))\n",
        "lst = []\n",
        "av_pl = 0\n",
        "for i in range(n):\n",
        "    p = input(f'player {i+1}:')\n",
        "    lst.append(p)\n",
        "\n",
        "attempt = int(input('How many match they will have to play: '))\n",
        "for i in lst:\n",
        "    if int(i)+attempt <= 5:\n",
        "        av_pl += 1\n",
        "print(av_pl//3)"
      ],
      "metadata": {
        "colab": {
          "base_uri": "https://localhost:8080/"
        },
        "id": "b5qSEiLmWGbm",
        "outputId": "eba5b2b8-e17c-4b97-9d4e-e8ed67215316"
      },
      "execution_count": 8,
      "outputs": [
        {
          "output_type": "stream",
          "name": "stdout",
          "text": [
            "number of player: 5\n",
            "player 1:0\n",
            "player 2:4\n",
            "player 3:5\n",
            "player 4:1\n",
            "player 5:0\n",
            "How many match they will have to play: 2\n",
            "1\n"
          ]
        }
      ]
    },
    {
      "cell_type": "markdown",
      "source": [
        "#Dictionary & Tuple"
      ],
      "metadata": {
        "id": "XdyRg82Xz0K1"
      }
    },
    {
      "cell_type": "code",
      "source": [
        "#Task: 01\n",
        "dic1_input = input('Please enter dictionary 1: ')\n",
        "dic2_input = input('Please enter dictionary 2: ')\n",
        "\n",
        "# Convert input strings into dictionaries\n",
        "dic1 = dict(item.split(\": \") for item in dic1_input.split(\", \"))\n",
        "dic2 = dict(item.split(\": \") for item in dic2_input.split(\", \"))\n",
        "\n",
        "comdic = {}\n",
        "\n",
        "# Combine dictionaries\n",
        "for key in dic1:\n",
        "    if key in dic2:\n",
        "        comdic[key] = dic1[key] + dic2[key]\n",
        "    else:\n",
        "        comdic[key] = dic1[key]\n",
        "\n",
        "for key in dic2:\n",
        "    if key not in comdic:\n",
        "        comdic[key] = dic2[key]\n",
        "\n",
        "# Extract unique values and sort them\n",
        "values = set(comdic.values())\n",
        "un_dic = tuple(sorted(values))\n",
        "\n",
        "print(comdic)\n",
        "print('Values:', un_dic)"
      ],
      "metadata": {
        "colab": {
          "base_uri": "https://localhost:8080/"
        },
        "id": "ikPjdyCUU2iD",
        "outputId": "84e87878-6f9a-42d5-b3a8-c25903599243"
      },
      "execution_count": 14,
      "outputs": [
        {
          "output_type": "stream",
          "name": "stdout",
          "text": [
            "Please enter dictionary 1: a: 100, b: 100, c: 200, d: 300\n",
            "Please enter dictionary 2: a: 300, b: 200, d: 400, e: 200\n",
            "{'a': '100300', 'b': '100200', 'c': '200', 'd': '300400', 'e': '200'}\n",
            "Values: ('100200', '100300', '200', '300400')\n"
          ]
        }
      ]
    },
    {
      "cell_type": "code",
      "source": [
        "#Task: 02\n",
        "\n",
        "dic = {}\n",
        "\n",
        "while True:\n",
        "    num = input()\n",
        "    if num=='STOP':\n",
        "        break\n",
        "\n",
        "    if num not in dic:\n",
        "        dic[num] = 1\n",
        "    else:\n",
        "        dic[num] +=1\n",
        "\n",
        "for num,count in dic.items():\n",
        "    print(f'{num} - {count} times.')"
      ],
      "metadata": {
        "colab": {
          "base_uri": "https://localhost:8080/"
        },
        "id": "lZaX-pRhNujc",
        "outputId": "9b475172-33e4-4d1a-83b3-a1372f2b45a9"
      },
      "execution_count": null,
      "outputs": [
        {
          "output_type": "stream",
          "name": "stdout",
          "text": [
            "10\n",
            "20\n",
            "10\n",
            "STOP\n",
            "10 - 2 times.\n",
            "20 - 1 times.\n"
          ]
        }
      ]
    },
    {
      "cell_type": "code",
      "source": [
        "#Task: 03\n",
        "dict = {}\n",
        "new_dict = {}\n",
        "\n",
        "input_string = input(\"Enter key-value pairs: \")\n",
        "\n",
        "# Split the input string by commas and iterate over key-value pairs\n",
        "pairs = input_string.split(\",\")\n",
        "for pair in pairs:\n",
        "    k, v = pair.strip().split(\":\")\n",
        "    dict[k.strip()] = v.strip()\n",
        "\n",
        "# Invert the dictionary\n",
        "for key, value in dict.items():\n",
        "    if value not in new_dict:\n",
        "        new_dict[value] = [key]\n",
        "    else:\n",
        "        new_dict[value].append(key)\n",
        "\n",
        "print(new_dict)"
      ],
      "metadata": {
        "colab": {
          "base_uri": "https://localhost:8080/"
        },
        "id": "OirpAEuKJ9Gf",
        "outputId": "36e30f35-86a5-4a66-dd9d-d924c6d9ab84"
      },
      "execution_count": 19,
      "outputs": [
        {
          "output_type": "stream",
          "name": "stdout",
          "text": [
            "Enter key-value pairs: key1 : value1, key2 : value2, key3 : value1\n",
            "{'value1': ['key1', 'key3'], 'value2': ['key2']}\n"
          ]
        }
      ]
    },
    {
      "cell_type": "code",
      "source": [
        "#Task: 04\n",
        "sentence = input('Please enter your string: ')\n",
        "dic = {}\n",
        "\n",
        "for char in sentence.lower():\n",
        "    if char.isalpha():\n",
        "        if char in dic:\n",
        "            dic[char] += 1\n",
        "        else:\n",
        "            dic[char] = 1\n",
        "print(dic)"
      ],
      "metadata": {
        "colab": {
          "base_uri": "https://localhost:8080/"
        },
        "id": "LdHhnuIn2r9e",
        "outputId": "36d90a8c-ea29-4b5e-d538-8a218adb0c8c"
      },
      "execution_count": null,
      "outputs": [
        {
          "output_type": "stream",
          "name": "stdout",
          "text": [
            "Please enter your string: Python programming is fun.\n",
            "{'p': 2, 'y': 1, 't': 1, 'h': 1, 'o': 2, 'n': 3, 'r': 2, 'g': 2, 'a': 1, 'm': 2, 'i': 2, 's': 1, 'f': 1, 'u': 1}\n"
          ]
        }
      ]
    },
    {
      "cell_type": "code",
      "source": [
        "#Task: 05\n",
        "str1 = input(\"Enter string1: \")\n",
        "str2 = input(\"Enter string2: \" )\n",
        "len_str1= len(str1)\n",
        "len_str2 = len(str2)\n",
        "\n",
        "con =  True\n",
        "if len_str1==len_str2:\n",
        "    dict1 = {}\n",
        "    dict2 = {}\n",
        "\n",
        "    dict1[1]=str1\n",
        "    dict2[1]=str2\n",
        "    for i in dict1:\n",
        "        string1 = dict1[i]\n",
        "        string2 = dict2[1]\n",
        "        if con == False:\n",
        "            break\n",
        "        for x in range(len(string1)):\n",
        "            if con == False:\n",
        "                break\n",
        "            for j in range(len(string2)):\n",
        "                if string1[x] == string2[j] :\n",
        "                    con = True\n",
        "                    break\n",
        "                else:\n",
        "                    con = False\n",
        "else:\n",
        "    con = False\n",
        "if con == True:\n",
        "    print(\"Those strings are anagram\")\n",
        "else:\n",
        "    print(\"Those strings are not anagram\")"
      ],
      "metadata": {
        "colab": {
          "base_uri": "https://localhost:8080/"
        },
        "id": "mrqcPO3pJDU2",
        "outputId": "7d1bc260-78c0-46b1-fd35-59bbc274c877"
      },
      "execution_count": null,
      "outputs": [
        {
          "output_type": "stream",
          "name": "stdout",
          "text": [
            "Enter string1: evil\n",
            "Enter string2: live\n",
            "Those strings are anagram\n"
          ]
        }
      ]
    },
    {
      "cell_type": "code",
      "source": [
        "#Task: 06\n",
        "phone_dic ={\".\":1,\",\":11,\"?\":111,\"!\":1111,\":\":11111,\"A\":2,\"a\":2,\"B\":22,\"b\":22,\"C\":222,\"c\":222,\"D\":3,\"d\":3,\"E\":33,\n",
        " \"e\":33,\"F\":333,\"f\":333,\"G\":4,\"g\":4,\"H\":44,\"h\":44,\"I\":444,\"i\":444,\"J\":5,\"j\":5,\"K\":55,\"k\":55,\"L\":555,\"l\":555,\n",
        " \"M\":6,\"m\":6,\"N\":66,\"n\":66,\"O\":666,\"o\":666,\"P\":7,\"p\":7,\"Q\":77,\"q\":77,\"R\":777,\"r\":777,\"S\":7777,\"s\":7777,\"T\":8,\"t\":8,\n",
        " \"U\":88,\"u\":88,\"V\":888,\"v\":888,\"W\":9,\"w\":9,\"X\":99,\"x\":99,\"y\":999,\"Y\":999,\"Z\":9999,\"z\":9999,\" \":0}\n",
        "\n",
        "user = input(\"Enter Input: \")\n",
        "\n",
        "for val in user:\n",
        "    c = phone_dic.get(val)\n",
        "    print(c,end='')"
      ],
      "metadata": {
        "colab": {
          "base_uri": "https://localhost:8080/"
        },
        "id": "J4DOYxmVG6iP",
        "outputId": "250cc23f-813b-4bbc-eb9b-3c51a3bdbeb1"
      },
      "execution_count": null,
      "outputs": [
        {
          "output_type": "stream",
          "name": "stdout",
          "text": [
            "Enter Input: Hello, World!\n",
            "4433555555666110966677755531111"
          ]
        }
      ]
    }
  ]
}